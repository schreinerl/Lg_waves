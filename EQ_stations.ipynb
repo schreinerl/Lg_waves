{
 "cells": [
  {
   "cell_type": "code",
   "execution_count": 1,
   "id": "3c2e7872",
   "metadata": {},
   "outputs": [],
   "source": [
    "#! pip install --upgrade folium\n",
    "from obspy import UTCDateTime\n",
    "from obspy.clients.fdsn import Client\n",
    "from obspy.clients.fdsn import RoutingClient\n"
   ]
  },
  {
   "cell_type": "code",
   "execution_count": 2,
   "id": "1020d66d",
   "metadata": {},
   "outputs": [
    {
     "name": "stdout",
     "output_type": "stream",
     "text": [
      "43.5 5.0\n"
     ]
    }
   ],
   "source": [
    "minlat = 37\n",
    "maxlat = 50.0\n",
    "minlg = -5\n",
    "maxlg = 15\n",
    "minmag = 3.5\n",
    "\n",
    "start = UTCDateTime(\"2018-09-15\") # XT\n",
    "end = UTCDateTime(\"2019-12-15\") #YP\n",
    "\n",
    "start = UTCDateTime(\"2012-06-15\") # YP\n",
    "end = UTCDateTime(\"2013-09-01\") #YP\n",
    "\n",
    "\n",
    "start = UTCDateTime(\"2011-11-12\") # Pyrope est X7 PE* PF*\n",
    "end = UTCDateTime(\"2012-04-25\") #Pyrope est\n",
    "start = UTCDateTime(\"2018-10-04\") # cifalps2 XT\n",
    "end = UTCDateTime(\"2019-12-01\") #cifalps2\n",
    "start = UTCDateTime(\"2012-10-20\") # Pyrope west X7, PW*+PY15\n",
    "end = UTCDateTime(\"2013-10-01\") #Pyrope west\n",
    "start = UTCDateTime(\"2013-11-01\") # Pyrope center X7, PC*+PY09B\n",
    "end = UTCDateTime(\"2014-07-01\") #Pyrope center\n",
    "start = UTCDateTime(\"2018-01-01\")\n",
    "end = UTCDateTime(\"2025-12-01\")\n",
    "\n",
    "\n",
    "\n",
    "latcent=(minlat+maxlat)/2\n",
    "loncent=(minlg+maxlg)/2\n",
    "print(latcent,loncent)"
   ]
  },
  {
   "cell_type": "code",
   "execution_count": null,
   "id": "5396f42d",
   "metadata": {},
   "outputs": [],
   "source": [
    "events_emsc = Client(\"EMSC\").get_events(\n",
    "    minlatitude=minlat,\n",
    "    maxlatitude=maxlat,\n",
    "    minlongitude=minlg,\n",
    "    maxlongitude=maxlg,\n",
    "    minmagnitude=minmag,\n",
    "    starttime=start,\n",
    "    endtime=end\n",
    ")\n",
    "print(\"\\nFound %s event(s) from EMSC Data Center:\\n\" % len(events_emsc))\n",
    "print(events_emsc)"
   ]
  },
  {
   "cell_type": "code",
   "execution_count": null,
   "id": "9472ef81",
   "metadata": {},
   "outputs": [],
   "source": [
    "client = RoutingClient(\"eida-routing\")\n",
    "#client=Client(\"RESIF\") #massif central\n",
    "inventory=client.get_stations(\n",
    "    channel='HH?,BH?,SH?',\n",
    "    minlatitude=minlat,\n",
    "    maxlatitude=maxlat,\n",
    "    minlongitude=minlg,\n",
    "    maxlongitude=maxlg,\n",
    "    starttime=start,\n",
    "    endtime=end\n",
    ")\n",
    "print(inventory)"
   ]
  },
  {
   "cell_type": "code",
   "execution_count": null,
   "id": "3f763820",
   "metadata": {},
   "outputs": [],
   "source": [
    "events_stations_combine(inventory,events_emsc)"
   ]
  },
  {
   "cell_type": "code",
   "execution_count": null,
   "id": "894b7881",
   "metadata": {},
   "outputs": [],
   "source": [
    "def events_stations_combine (inventory, events) :\n",
    "\n",
    "    import folium\n",
    "    events_combine=folium.Map(location=[latcent,loncent], zoom_start=5)\n",
    "\n",
    "    for network in inventory.networks:\n",
    "        for station in network.stations:\n",
    "            folium.RegularPolygonMarker(\n",
    "                location=[station.latitude, station.longitude],\n",
    "                tooltip=f\"{network.code}.{station.code}\",\n",
    "                color=\"red\",\n",
    "                fill=True,\n",
    "                number_of_sides=3,\n",
    "                radius=3,\n",
    "                rotation=30,\n",
    "            ).add_to(events_combine)\n",
    "\n",
    "    for event in events:\n",
    "        for origin, magnitude in zip(event.origins, event.magnitudes):\n",
    "                lat, lon, depth, mag, tt = (\n",
    "                    origin.latitude,\n",
    "                    origin.longitude,\n",
    "                    origin.depth,\n",
    "                    magnitude.mag,\n",
    "                    origin.time\n",
    "                )\n",
    "        \n",
    "                folium.CircleMarker(\n",
    "                    location=[lat, lon],\n",
    "                    radius=200 * 2 ** (mag) / 2 ** 10,\n",
    "                    color='blue',\n",
    "                    fill=True,\n",
    "                    fill_color=\"#FF8C00\",\n",
    "                    tooltip=f\"{mag}.{tt}\",\n",
    "                ).add_to(events_combine)\n",
    "        \n",
    "    return events_combine"
   ]
  },
  {
   "cell_type": "code",
   "execution_count": null,
   "id": "9ddb4bb1",
   "metadata": {},
   "outputs": [],
   "source": []
  },
  {
   "cell_type": "code",
   "execution_count": null,
   "id": "544278a0",
   "metadata": {},
   "outputs": [],
   "source": []
  }
 ],
 "metadata": {
  "kernelspec": {
   "display_name": "Python 3",
   "language": "python",
   "name": "python3"
  },
  "language_info": {
   "codemirror_mode": {
    "name": "ipython",
    "version": 3
   },
   "file_extension": ".py",
   "mimetype": "text/x-python",
   "name": "python",
   "nbconvert_exporter": "python",
   "pygments_lexer": "ipython3",
   "version": "3.10.12"
  }
 },
 "nbformat": 4,
 "nbformat_minor": 5
}
